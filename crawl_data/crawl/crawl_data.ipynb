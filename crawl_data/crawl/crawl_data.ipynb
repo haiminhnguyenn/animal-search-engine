{
 "cells": [
  {
   "cell_type": "markdown",
   "metadata": {},
   "source": [
    "notebook này sẽ giúp cậu crawl data tiếng việt cho dự án máy tìm kiếm động vật"
   ]
  },
  {
   "cell_type": "markdown",
   "metadata": {},
   "source": [
    "Trước tiên cần có 1 từ điển tên động vật, ở đây tôi sử dụng trang https://animalia.bio để lấy danh sách này </br>sau khi tìm kiếm trên google với tiếng anh, thử chuyển đổi qua tiếng việt nếu được, nếu không, lưu lại log"
   ]
  },
  {
   "cell_type": "code",
   "execution_count": 2,
   "metadata": {},
   "outputs": [],
   "source": [
    "from selenium import webdriver\n",
    "from selenium.webdriver.chrome.options import Options  \n",
    "      \n",
    "# Mở trình duyệt\n",
    "chrome_options = Options()\n",
    "prefs = {\"profile.managed_default_content_settings.images\": 2}\n",
    "chrome_options.add_experimental_option(\"prefs\", prefs)\n",
    "driver = webdriver.Chrome( options=chrome_options)\n",
    "driver.set_window_position(-1920, 0)\n",
    "driver.maximize_window()\n",
    "\n",
    "from list_name import crawl_list_name \n",
    "number_each_group=crawl_list_name(driver)\n",
    "print(number_each_group)\n"
   ]
  },
  {
   "cell_type": "code",
   "execution_count": 14,
   "metadata": {},
   "outputs": [
    {
     "name": "stdout",
     "output_type": "stream",
     "text": [
      "p:\\coddd\\animal-search-engine\n",
      "Unexpected error on attempt 1 for https://en.wikipedia.org/wiki/Roze's_gecko: name 'BeautifulSoup' is not defined\n",
      "Unexpected error on attempt 1 for https://en.wikipedia.org/wiki/Slater's_worm_lizard: name 'BeautifulSoup' is not defined\n",
      "Unexpected error on attempt 1 for https://en.wikipedia.org/wiki/Oreosaurus_serranus: name 'BeautifulSoup' is not defined\n",
      "Unexpected error on attempt 1 for https://en.wikipedia.org/wiki/Pholidobolus_paramuno: name 'BeautifulSoup' is not defined\n"
     ]
    },
    {
     "ename": "TypeError",
     "evalue": "An asyncio.Future, a coroutine or an awaitable is required",
     "output_type": "error",
     "traceback": [
      "\u001b[1;31m---------------------------------------------------------------------------\u001b[0m",
      "\u001b[1;31mTypeError\u001b[0m                                 Traceback (most recent call last)",
      "Cell \u001b[1;32mIn[14], line 60\u001b[0m\n\u001b[0;32m     56\u001b[0m                 \u001b[38;5;28;01mwith\u001b[39;00m \u001b[38;5;28mopen\u001b[39m(\u001b[38;5;124m\"\u001b[39m\u001b[38;5;124mcrawl_data/log/check_log.txt\u001b[39m\u001b[38;5;124m\"\u001b[39m, \u001b[38;5;124m\"\u001b[39m\u001b[38;5;124mw\u001b[39m\u001b[38;5;124m\"\u001b[39m, encoding\u001b[38;5;241m=\u001b[39m\u001b[38;5;124m\"\u001b[39m\u001b[38;5;124mutf-8\u001b[39m\u001b[38;5;124m\"\u001b[39m) \u001b[38;5;28;01mas\u001b[39;00m f:\n\u001b[0;32m     57\u001b[0m                     f\u001b[38;5;241m.\u001b[39mwrite(animal)\n\u001b[1;32m---> 60\u001b[0m result \u001b[38;5;241m=\u001b[39m \u001b[38;5;28;01mawait\u001b[39;00m main()\n",
      "Cell \u001b[1;32mIn[14], line 52\u001b[0m, in \u001b[0;36mmain\u001b[1;34m()\u001b[0m\n\u001b[0;32m     49\u001b[0m inner_count \u001b[38;5;241m+\u001b[39m\u001b[38;5;241m=\u001b[39m \u001b[38;5;241m1\u001b[39m\n\u001b[0;32m     51\u001b[0m \u001b[38;5;28;01mif\u001b[39;00m inner_count \u001b[38;5;241m==\u001b[39m \u001b[38;5;241m5\u001b[39m:\n\u001b[1;32m---> 52\u001b[0m     \u001b[38;5;28;01mawait\u001b[39;00m asyncio\u001b[38;5;241m.\u001b[39mgather(\u001b[38;5;241m*\u001b[39mtasks)\n\u001b[0;32m     53\u001b[0m     tasks \u001b[38;5;241m=\u001b[39m []\n\u001b[0;32m     54\u001b[0m     inner_count \u001b[38;5;241m=\u001b[39m \u001b[38;5;241m0\u001b[39m\n",
      "File \u001b[1;32mC:\\Program Files\\WindowsApps\\PythonSoftwareFoundation.Python.3.10_3.10.3056.0_x64__qbz5n2kfra8p0\\lib\\asyncio\\tasks.py:783\u001b[0m, in \u001b[0;36mgather\u001b[1;34m(return_exceptions, *coros_or_futures)\u001b[0m\n\u001b[0;32m    781\u001b[0m \u001b[38;5;28;01mfor\u001b[39;00m arg \u001b[38;5;129;01min\u001b[39;00m coros_or_futures:\n\u001b[0;32m    782\u001b[0m     \u001b[38;5;28;01mif\u001b[39;00m arg \u001b[38;5;129;01mnot\u001b[39;00m \u001b[38;5;129;01min\u001b[39;00m arg_to_fut:\n\u001b[1;32m--> 783\u001b[0m         fut \u001b[38;5;241m=\u001b[39m \u001b[43m_ensure_future\u001b[49m\u001b[43m(\u001b[49m\u001b[43marg\u001b[49m\u001b[43m,\u001b[49m\u001b[43m \u001b[49m\u001b[43mloop\u001b[49m\u001b[38;5;241;43m=\u001b[39;49m\u001b[43mloop\u001b[49m\u001b[43m)\u001b[49m\n\u001b[0;32m    784\u001b[0m         \u001b[38;5;28;01mif\u001b[39;00m loop \u001b[38;5;129;01mis\u001b[39;00m \u001b[38;5;28;01mNone\u001b[39;00m:\n\u001b[0;32m    785\u001b[0m             loop \u001b[38;5;241m=\u001b[39m futures\u001b[38;5;241m.\u001b[39m_get_loop(fut)\n",
      "File \u001b[1;32mC:\\Program Files\\WindowsApps\\PythonSoftwareFoundation.Python.3.10_3.10.3056.0_x64__qbz5n2kfra8p0\\lib\\asyncio\\tasks.py:630\u001b[0m, in \u001b[0;36m_ensure_future\u001b[1;34m(coro_or_future, loop)\u001b[0m\n\u001b[0;32m    628\u001b[0m         called_wrap_awaitable \u001b[38;5;241m=\u001b[39m \u001b[38;5;28;01mTrue\u001b[39;00m\n\u001b[0;32m    629\u001b[0m     \u001b[38;5;28;01melse\u001b[39;00m:\n\u001b[1;32m--> 630\u001b[0m         \u001b[38;5;28;01mraise\u001b[39;00m \u001b[38;5;167;01mTypeError\u001b[39;00m(\u001b[38;5;124m'\u001b[39m\u001b[38;5;124mAn asyncio.Future, a coroutine or an awaitable \u001b[39m\u001b[38;5;124m'\u001b[39m\n\u001b[0;32m    631\u001b[0m                         \u001b[38;5;124m'\u001b[39m\u001b[38;5;124mis required\u001b[39m\u001b[38;5;124m'\u001b[39m)\n\u001b[0;32m    633\u001b[0m \u001b[38;5;28;01mif\u001b[39;00m loop \u001b[38;5;129;01mis\u001b[39;00m \u001b[38;5;28;01mNone\u001b[39;00m:\n\u001b[0;32m    634\u001b[0m     loop \u001b[38;5;241m=\u001b[39m events\u001b[38;5;241m.\u001b[39m_get_event_loop(stacklevel\u001b[38;5;241m=\u001b[39m\u001b[38;5;241m4\u001b[39m)\n",
      "\u001b[1;31mTypeError\u001b[0m: An asyncio.Future, a coroutine or an awaitable is required"
     ]
    }
   ],
   "source": [
    "import asyncio\n",
    "import aiohttp\n",
    "from bs4 import BeautifulSoup\n",
    "from crawl_data.wiki_content import crawl_content_wiki\n",
    "from find_link import find_wiki_en, find_wiki_vn\n",
    "\n",
    "import os\n",
    "path=os.getcwd()\n",
    "#lấy từ đầu đến thư mục animal-search-engine\n",
    "path=path[:path.find(\"animal-search-engine\")+len(\"animal-search-engine\")]\n",
    "print(path)\n",
    "os.chdir(path)\n",
    "\n",
    "async def process_animal(session, animal, couit):\n",
    "    check, wiki_en_url = await find_wiki_en(session, animal)\n",
    "    if check:\n",
    "        check, wiki_vn_url = await find_wiki_vn(session, animal, wiki_en_url)\n",
    "        if check:\n",
    "            await crawl_content_wiki(session, wiki_vn_url, couit)\n",
    "\n",
    "\n",
    "async def main():\n",
    "    with open(\"crawl_data/log/check_log.txt\", \"r\", encoding=\"utf-8\") as f:\n",
    "        last_line = f.readlines()[-1].strip()\n",
    "    \n",
    "    check = False\n",
    "    animalds = [\"mammals\", \"mollusk\", \"birds\", \"amphibia\", \"reptiles\"]\n",
    "    couit = 0\n",
    "    \n",
    "    connector = aiohttp.TCPConnector(limit=50)  # Giới hạn kết nối đồng thời\n",
    "    async with aiohttp.ClientSession(connector=connector) as session:\n",
    "        tasks = []\n",
    "        for ani in animalds:\n",
    "            with open(f\"crawl_data/list_name/{ani}.txt\", \"r\", encoding=\"utf-8\") as f:\n",
    "                animals = [line.strip() for line in f.readlines()]\n",
    "            \n",
    "            inner_count = 0\n",
    "            #Loop \n",
    "            for animal in animals:\n",
    "                if animal == last_line or last_line == \"PhamPhong\":\n",
    "                    check = True\n",
    "                if not check:\n",
    "                    couit += 1\n",
    "                    continue\n",
    "                \n",
    "                task = await process_animal(session, animal, couit)\n",
    "                tasks.append(task)\n",
    "                couit += 1\n",
    "                inner_count += 1\n",
    "                \n",
    "                if inner_count == 5:\n",
    "                    await asyncio.gather(*tasks)\n",
    "                    tasks = []\n",
    "                    inner_count = 0\n",
    "                \n",
    "                with open(\"crawl_data/log/check_log.txt\", \"w\", encoding=\"utf-8\") as f:\n",
    "                    f.write(animal)\n",
    "\n",
    "\n",
    "result = await main()"
   ]
  }
 ],
 "metadata": {
  "kernelspec": {
   "display_name": "Python 3",
   "language": "python",
   "name": "python3"
  },
  "language_info": {
   "codemirror_mode": {
    "name": "ipython",
    "version": 3
   },
   "file_extension": ".py",
   "mimetype": "text/x-python",
   "name": "python",
   "nbconvert_exporter": "python",
   "pygments_lexer": "ipython3",
   "version": "3.10.11"
  }
 },
 "nbformat": 4,
 "nbformat_minor": 2
}
