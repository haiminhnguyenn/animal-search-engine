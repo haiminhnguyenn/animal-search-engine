{
 "cells": [
  {
   "cell_type": "markdown",
   "metadata": {},
   "source": [
    "notebook này sẽ giúp cậu crawl data tiếng việt cho dự án máy tìm kiếm động vật"
   ]
  },
  {
   "cell_type": "markdown",
   "metadata": {},
   "source": [
    "Trước tiên cần có 1 từ điển tên động vật, ở đây tôi sử dụng trang https://animalia.bio để lấy danh sách này </br>sau khi tìm kiếm trên google với tiếng anh, thử chuyển đổi qua tiếng việt nếu được, nếu không, lưu lại log"
   ]
  },
  {
   "cell_type": "code",
   "execution_count": 2,
   "metadata": {},
   "outputs": [],
   "source": [
    "from selenium import webdriver\n",
    "from selenium.webdriver.chrome.options import Options  \n",
    "      \n",
    "# Mở trình duyệt\n",
    "chrome_options = Options()\n",
    "prefs = {\"profile.managed_default_content_settings.images\": 2}\n",
    "chrome_options.add_experimental_option(\"prefs\", prefs)\n",
    "driver = webdriver.Chrome( options=chrome_options)\n",
    "driver.set_window_position(-1920, 0)\n",
    "driver.maximize_window()\n",
    "\n",
    "from list_name import crawl_list_name \n",
    "number_each_group=crawl_list_name(driver)\n",
    "print(number_each_group)\n"
   ]
  }
 ],
 "metadata": {
  "kernelspec": {
   "display_name": "Python 3",
   "language": "python",
   "name": "python3"
  },
  "language_info": {
   "codemirror_mode": {
    "name": "ipython",
    "version": 3
   },
   "file_extension": ".py",
   "mimetype": "text/x-python",
   "name": "python",
   "nbconvert_exporter": "python",
   "pygments_lexer": "ipython3",
   "version": "3.10.11"
  }
 },
 "nbformat": 4,
 "nbformat_minor": 2
}
